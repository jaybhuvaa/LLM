{
  "nbformat": 4,
  "nbformat_minor": 0,
  "metadata": {
    "colab": {
      "provenance": [],
      "authorship_tag": "ABX9TyPZSAnVst6dFFJn4GbWNl7a",
      "include_colab_link": true
    },
    "kernelspec": {
      "name": "python3",
      "display_name": "Python 3"
    },
    "language_info": {
      "name": "python"
    }
  },
  "cells": [
    {
      "cell_type": "markdown",
      "metadata": {
        "id": "view-in-github",
        "colab_type": "text"
      },
      "source": [
        "<a href=\"https://colab.research.google.com/github/jaybhuvaa/LLM/blob/main/Bigram.ipynb\" target=\"_parent\"><img src=\"https://colab.research.google.com/assets/colab-badge.svg\" alt=\"Open In Colab\"/></a>"
      ]
    },
    {
      "cell_type": "code",
      "execution_count": null,
      "metadata": {
        "colab": {
          "base_uri": "https://localhost:8080/"
        },
        "id": "cbKgYUaStObO",
        "outputId": "5563b6ca-9e6c-4c0e-c611-17bd920e0455"
      },
      "outputs": [
        {
          "output_type": "stream",
          "name": "stdout",
          "text": [
            "232131\n",
            "﻿  DOROTHY AND THE WIZARD IN OZ\n",
            "\n",
            "  BY\n",
            "\n",
            "  L. FRANK BAUM\n",
            "\n",
            "  AUTHOR OF THE WIZARD OF OZ, THE LAND OF OZ, OZMA OF OZ, ETC.\n",
            "\n",
            "  ILLUSTRATED BY JOHN R. NEILL\n",
            "\n",
            "  BOOKS OF WONDER WILLIAM MORROW & CO., INC. NEW\n"
          ]
        }
      ],
      "source": [
        "with open('woo.txt','r',encoding='utf-8') as f:\n",
        "    text=f.read()\n",
        "print(len(text))\n",
        "print(text[:200])\n"
      ]
    },
    {
      "cell_type": "markdown",
      "source": [
        "**Tokenizer**\n",
        "\n",
        "Tokenization in Python is essentially splitting a phrase, sentence, paragraph, or an entire text document into smaller units, such as individual words or terms. Each of these smaller units are called tokens. The tokens could be words, numbers or punctuation marks."
      ],
      "metadata": {
        "id": "yrIXR8T5vEZo"
      }
    },
    {
      "cell_type": "code",
      "source": [
        "chars=sorted(set(text))\n",
        "print(chars)\n",
        "print(len(chars))"
      ],
      "metadata": {
        "colab": {
          "base_uri": "https://localhost:8080/"
        },
        "id": "o9051iX1tvQV",
        "outputId": "d50111d6-0f8c-4c3b-c2de-b9cbdc98279e"
      },
      "execution_count": null,
      "outputs": [
        {
          "output_type": "stream",
          "name": "stdout",
          "text": [
            "['\\n', ' ', '!', '\"', '&', \"'\", '(', ')', '*', ',', '-', '.', '0', '1', '2', '3', '4', '5', '6', '7', '8', '9', ':', ';', '?', 'A', 'B', 'C', 'D', 'E', 'F', 'G', 'H', 'I', 'J', 'K', 'L', 'M', 'N', 'O', 'P', 'Q', 'R', 'S', 'T', 'U', 'V', 'W', 'X', 'Y', 'Z', '[', ']', '_', 'a', 'b', 'c', 'd', 'e', 'f', 'g', 'h', 'i', 'j', 'k', 'l', 'm', 'n', 'o', 'p', 'q', 'r', 's', 't', 'u', 'v', 'w', 'x', 'y', 'z', '\\ufeff']\n",
            "81\n"
          ]
        }
      ]
    },
    {
      "cell_type": "markdown",
      "source": [
        "**Encoding-Deconding**\n",
        "\n",
        "string_to_int = {ch:i for i , ch in enumerate (chars)}:\n",
        "\n",
        "This line creates a dictionary string_to_int where each character in the chars string is mapped to its corresponding index in the chars string. The enumerate() function provides both the index and the character from the chars string.\n",
        "\n",
        "encode=lambda s:[string_to_int[c] for c in s]:\n",
        "\n",
        "This line defines an anonymous function encode which takes a string s as input. It uses a list comprehension to iterate over each character c in the input string s, and for each character, it retrieves its corresponding integer value from the string_to_int dictionary and forms a list of these integer values."
      ],
      "metadata": {
        "id": "4Ddb_2GduqUu"
      }
    },
    {
      "cell_type": "code",
      "source": [
        "string_to_int = {ch:i for i , ch in enumerate (chars)}\n",
        "int_to_string = {i:ch for i , ch in enumerate (chars)}\n",
        "encode=lambda s:[string_to_int[c] for c in s]\n",
        "decode=lambda l:''.join([int_to_string[i] for i in l])\n",
        "\n",
        "print(encode('Hello'))\n",
        "print(encode('Jay'))\n",
        "print(decode([32, 58, 65]))"
      ],
      "metadata": {
        "colab": {
          "base_uri": "https://localhost:8080/"
        },
        "id": "9aiHH7CYtyG4",
        "outputId": "e99bbf97-4820-424c-a49a-e6fbe7e2674f"
      },
      "execution_count": null,
      "outputs": [
        {
          "output_type": "stream",
          "name": "stdout",
          "text": [
            "[32, 58, 65, 65, 68]\n",
            "[34, 54, 78]\n",
            "Hel\n"
          ]
        }
      ]
    },
    {
      "cell_type": "markdown",
      "source": [
        "**PyTorch**\n",
        "\n",
        "PyTorch is an open source machine learning (ML) framework based on the Python programming language and the Torch library. Torch is an open source ML library used for creating deep neural networks and is written in the Lua scripting language. It's one of the preferred platforms for deep learning research. The framework is built to speed up the process between research prototyping and deployment."
      ],
      "metadata": {
        "id": "8N9H1ZrCuPwZ"
      }
    },
    {
      "cell_type": "code",
      "source": [
        "import torch\n",
        "data=torch.tensor(encode(text),dtype=torch.long)\n",
        "print(data[:100])"
      ],
      "metadata": {
        "colab": {
          "base_uri": "https://localhost:8080/"
        },
        "id": "qMDjwQu4t1X0",
        "outputId": "70f8b1c5-bf40-47d3-af65-818f7e67c4ad"
      },
      "execution_count": null,
      "outputs": [
        {
          "output_type": "stream",
          "name": "stdout",
          "text": [
            "tensor([80,  1,  1, 28, 39, 42, 39, 44, 32, 49,  1, 25, 38, 28,  1, 44, 32, 29,\n",
            "         1, 47, 33, 50, 25, 42, 28,  1, 33, 38,  1, 39, 50,  0,  0,  1,  1, 26,\n",
            "        49,  0,  0,  1,  1, 36, 11,  1, 30, 42, 25, 38, 35,  1, 26, 25, 45, 37,\n",
            "         0,  0,  1,  1, 25, 45, 44, 32, 39, 42,  1, 39, 30,  1, 44, 32, 29,  1,\n",
            "        47, 33, 50, 25, 42, 28,  1, 39, 30,  1, 39, 50,  9,  1, 44, 32, 29,  1,\n",
            "        36, 25, 38, 28,  1, 39, 30,  1, 39, 50])\n"
          ]
        }
      ]
    },
    {
      "cell_type": "markdown",
      "source": [
        "**Test-Validation Split**\n",
        "\n",
        "> Why to split data?\n",
        "\n",
        "  if we give model our full data to train than there is no any\n",
        "    prediction part. it will be only factual data that will be given by model.\n",
        "    \n",
        " if we split the data than model will be train based on the taining data anf to test the accuracy we can use the test data to check weather the model is doing right or wrong.\n",
        "  \n",
        "\n"
      ],
      "metadata": {
        "id": "561TdsUQwjM6"
      }
    },
    {
      "cell_type": "code",
      "source": [
        "n=int(0.8*len(data))\n",
        "train_data=data[:n]\n",
        "val_data=data[n:]\n",
        "print(train_data[:10])\n",
        "print(val_data[:10])"
      ],
      "metadata": {
        "colab": {
          "base_uri": "https://localhost:8080/"
        },
        "id": "WUfMxS7auOMw",
        "outputId": "ce5b3185-3c1d-4d93-98f5-b123f34337bf"
      },
      "execution_count": null,
      "outputs": [
        {
          "output_type": "stream",
          "name": "stdout",
          "text": [
            "tensor([80,  1,  1, 28, 39, 42, 39, 44, 32, 49])\n",
            "tensor([ 1, 62, 73, 11,  0,  0,  3, 30, 62, 72])\n"
          ]
        }
      ]
    },
    {
      "cell_type": "markdown",
      "source": [
        "**Bigram Model**\n",
        "\n",
        "A bigram language model is a type of statistical language model that predicts the probability of a word in a sequence based on the previous word. It considers pairs of consecutive words (bigrams) and estimates the likelihood of encountering a specific word given the preceding word in a text or sentence."
      ],
      "metadata": {
        "id": "nJPiyXIUzL1M"
      }
    },
    {
      "cell_type": "code",
      "source": [
        "block_size=8\n",
        "batch_size=4\n",
        "\n",
        "x=train_data[:block_size+1]\n",
        "y=train_data[1:block_size+1]\n",
        "\n",
        "for t in range(block_size):\n",
        "    context=x[:t+1]\n",
        "    target=y[t]\n",
        "    print(f\"when input is {context} the target: {target}\")"
      ],
      "metadata": {
        "colab": {
          "base_uri": "https://localhost:8080/"
        },
        "id": "c2FY6mXNyyt8",
        "outputId": "d29c75c3-f739-459f-e23a-c9ddb0305ca8"
      },
      "execution_count": null,
      "outputs": [
        {
          "output_type": "stream",
          "name": "stdout",
          "text": [
            "when input is tensor([80]) the target: 1\n",
            "when input is tensor([80,  1]) the target: 1\n",
            "when input is tensor([80,  1,  1]) the target: 28\n",
            "when input is tensor([80,  1,  1, 28]) the target: 39\n",
            "when input is tensor([80,  1,  1, 28, 39]) the target: 42\n",
            "when input is tensor([80,  1,  1, 28, 39, 42]) the target: 39\n",
            "when input is tensor([80,  1,  1, 28, 39, 42, 39]) the target: 44\n",
            "when input is tensor([80,  1,  1, 28, 39, 42, 39, 44]) the target: 32\n"
          ]
        }
      ]
    },
    {
      "cell_type": "markdown",
      "source": [
        "cuda is used for gpu based computation or training purpose."
      ],
      "metadata": {
        "id": "-4EboCM-0gf7"
      }
    },
    {
      "cell_type": "code",
      "source": [
        "device = 'cuda' if torch.cuda.is_available() else 'cpu'\n",
        "print(device)"
      ],
      "metadata": {
        "colab": {
          "base_uri": "https://localhost:8080/"
        },
        "id": "UOHa9d1i0B4M",
        "outputId": "146c6e5b-a66e-425f-e779-82ab6d75566d"
      },
      "execution_count": null,
      "outputs": [
        {
          "output_type": "stream",
          "name": "stdout",
          "text": [
            "cpu\n"
          ]
        }
      ]
    },
    {
      "cell_type": "code",
      "source": [],
      "metadata": {
        "id": "HqAcEOq20obK"
      },
      "execution_count": null,
      "outputs": []
    }
  ]
}