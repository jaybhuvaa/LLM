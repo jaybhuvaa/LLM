{
  "nbformat": 4,
  "nbformat_minor": 0,
  "metadata": {
    "colab": {
      "provenance": [],
      "authorship_tag": "ABX9TyP+N8u4XQ0kxU+NUW12VZ8L",
      "include_colab_link": true
    },
    "kernelspec": {
      "name": "python3",
      "display_name": "Python 3"
    },
    "language_info": {
      "name": "python"
    }
  },
  "cells": [
    {
      "cell_type": "markdown",
      "metadata": {
        "id": "view-in-github",
        "colab_type": "text"
      },
      "source": [
        "<a href=\"https://colab.research.google.com/github/jaybhuvaa/LLM/blob/main/torch_example.ipynb\" target=\"_parent\"><img src=\"https://colab.research.google.com/assets/colab-badge.svg\" alt=\"Open In Colab\"/></a>"
      ]
    },
    {
      "cell_type": "code",
      "execution_count": 2,
      "metadata": {
        "id": "xJ-TmZEnB37K"
      },
      "outputs": [],
      "source": [
        "import torch\n",
        "import numpy as np\n",
        "import time\n"
      ]
    },
    {
      "cell_type": "code",
      "source": [
        "%%time\n",
        "start_time=time.time()\n",
        "zeros=torch.zeros(1000000)\n",
        "end_time=time.time()\n",
        "print(end_time-start_time)"
      ],
      "metadata": {
        "colab": {
          "base_uri": "https://localhost:8080/"
        },
        "id": "aV_CVqIFCP2D",
        "outputId": "9972e253-6b48-4069-cd1c-376d5bb32e50"
      },
      "execution_count": null,
      "outputs": [
        {
          "output_type": "stream",
          "name": "stdout",
          "text": [
            "0.04147624969482422\n",
            "CPU times: user 2.67 ms, sys: 2.97 ms, total: 5.64 ms\n",
            "Wall time: 41.8 ms\n"
          ]
        }
      ]
    },
    {
      "cell_type": "code",
      "source": [
        "prob=torch.tensor([0.3,0.7])\n",
        "samples=torch.multinomial(prob,10,True)\n",
        "print(samples)"
      ],
      "metadata": {
        "colab": {
          "base_uri": "https://localhost:8080/"
        },
        "id": "b0M0PH1hCkKR",
        "outputId": "985e130e-4c6f-4d25-f599-bd1899202d22"
      },
      "execution_count": null,
      "outputs": [
        {
          "output_type": "stream",
          "name": "stdout",
          "text": [
            "tensor([1, 0, 1, 0, 0, 1, 0, 1, 0, 1])\n"
          ]
        }
      ]
    },
    {
      "cell_type": "code",
      "source": [
        "tensor=torch.tensor([1,2,3,4])\n",
        "out=torch.cat((tensor,torch.tensor([1,2,3,4])))\n",
        "out"
      ],
      "metadata": {
        "colab": {
          "base_uri": "https://localhost:8080/"
        },
        "id": "97x9JOKpC__p",
        "outputId": "b5f01d6d-894a-4be7-87d6-eed0714bdad7"
      },
      "execution_count": null,
      "outputs": [
        {
          "output_type": "execute_result",
          "data": {
            "text/plain": [
              "tensor([1, 2, 3, 4, 1, 2, 3, 4])"
            ]
          },
          "metadata": {},
          "execution_count": 10
        }
      ]
    },
    {
      "cell_type": "code",
      "source": [
        "out=torch.tril(torch.ones(3,3))\n",
        "out"
      ],
      "metadata": {
        "colab": {
          "base_uri": "https://localhost:8080/"
        },
        "id": "Ifw3iQSMESNe",
        "outputId": "77e3096d-2f55-4f44-8a5b-91d474d5c963"
      },
      "execution_count": null,
      "outputs": [
        {
          "output_type": "execute_result",
          "data": {
            "text/plain": [
              "tensor([[1., 0., 0.],\n",
              "        [1., 1., 0.],\n",
              "        [1., 1., 1.]])"
            ]
          },
          "metadata": {},
          "execution_count": 12
        }
      ]
    },
    {
      "cell_type": "code",
      "source": [
        "out=torch.triu(torch.ones(3,3))\n",
        "out"
      ],
      "metadata": {
        "colab": {
          "base_uri": "https://localhost:8080/"
        },
        "id": "p4gu36MGEvgA",
        "outputId": "011c1222-c6fa-4c21-8d12-d2449f434ac8"
      },
      "execution_count": null,
      "outputs": [
        {
          "output_type": "execute_result",
          "data": {
            "text/plain": [
              "tensor([[1., 1., 1.],\n",
              "        [0., 1., 1.],\n",
              "        [0., 0., 1.]])"
            ]
          },
          "metadata": {},
          "execution_count": 13
        }
      ]
    },
    {
      "cell_type": "code",
      "source": [
        "out=torch.zeros(3,3).masked_fill(torch.tril(torch.ones(3,3))==0,float('-inf'))\n",
        "out"
      ],
      "metadata": {
        "colab": {
          "base_uri": "https://localhost:8080/"
        },
        "id": "GB8wBGv6Eztt",
        "outputId": "335836a3-979d-4262-9b73-4129824f064c"
      },
      "execution_count": null,
      "outputs": [
        {
          "output_type": "execute_result",
          "data": {
            "text/plain": [
              "tensor([[0., -inf, -inf],\n",
              "        [0., 0., -inf],\n",
              "        [0., 0., 0.]])"
            ]
          },
          "metadata": {},
          "execution_count": 15
        }
      ]
    },
    {
      "cell_type": "code",
      "source": [
        "torch.exp(out)"
      ],
      "metadata": {
        "colab": {
          "base_uri": "https://localhost:8080/"
        },
        "id": "9BpZ780ZFWes",
        "outputId": "0e048a39-c0b4-4009-b6c9-2afcb41dda04"
      },
      "execution_count": null,
      "outputs": [
        {
          "output_type": "execute_result",
          "data": {
            "text/plain": [
              "tensor([[1., 0., 0.],\n",
              "        [1., 1., 0.],\n",
              "        [1., 1., 1.]])"
            ]
          },
          "metadata": {},
          "execution_count": 16
        }
      ]
    },
    {
      "cell_type": "code",
      "source": [
        "ten=torch.zeros(1,2,3,4)\n",
        "out=ten.transpose(0,1)\n",
        "out.shape"
      ],
      "metadata": {
        "colab": {
          "base_uri": "https://localhost:8080/"
        },
        "id": "CbsrjALdFdJ5",
        "outputId": "77da10f2-b3c6-4ee3-e89e-95828a172782"
      },
      "execution_count": null,
      "outputs": [
        {
          "output_type": "execute_result",
          "data": {
            "text/plain": [
              "torch.Size([2, 1, 3, 4])"
            ]
          },
          "metadata": {},
          "execution_count": 23
        }
      ]
    },
    {
      "cell_type": "code",
      "source": [
        "tensor1=torch.tensor([1,2,3,4])\n",
        "tensor2=torch.tensor([1,2,3,4])\n",
        "tensor3=torch.tensor([1,2,3,4])\n",
        "tensor4=torch.tensor([1,2,3,4])\n",
        "tensor5=torch.tensor([1,2,3,4])\n",
        "\n",
        "stack_tensor=torch.stack((tensor1,tensor2,tensor3,tensor4,tensor5),dim=0)\n",
        "stack_tensor"
      ],
      "metadata": {
        "colab": {
          "base_uri": "https://localhost:8080/"
        },
        "id": "Qsg7BI6aF_8A",
        "outputId": "d8992ea3-d6bd-4ac3-b6e0-61ce3a724da4"
      },
      "execution_count": null,
      "outputs": [
        {
          "output_type": "execute_result",
          "data": {
            "text/plain": [
              "tensor([[1, 2, 3, 4],\n",
              "        [1, 2, 3, 4],\n",
              "        [1, 2, 3, 4],\n",
              "        [1, 2, 3, 4],\n",
              "        [1, 2, 3, 4]])"
            ]
          },
          "metadata": {},
          "execution_count": 24
        }
      ]
    },
    {
      "cell_type": "code",
      "source": [
        "import torch.nn as nn\n",
        "sample=torch.tensor([10.,10.,10.])\n",
        "linear=nn.Linear(3,3,bias=False)\n",
        "\n",
        "linear(sample)\n"
      ],
      "metadata": {
        "colab": {
          "base_uri": "https://localhost:8080/"
        },
        "id": "gJa9-6hPGQ4B",
        "outputId": "8ca23e26-651e-44d6-eb4a-0ed1e8c9ac09"
      },
      "execution_count": null,
      "outputs": [
        {
          "output_type": "execute_result",
          "data": {
            "text/plain": [
              "tensor([ 1.5394,  8.2783, 11.5853], grad_fn=<SqueezeBackward4>)"
            ]
          },
          "metadata": {},
          "execution_count": 33
        }
      ]
    },
    {
      "cell_type": "code",
      "source": [
        "import torch.nn.functional as F\n",
        "sample=torch.tensor([1.0,2.0,3.0])\n",
        "ss=F.softmax(sample,dim=0)\n",
        "print(ss)"
      ],
      "metadata": {
        "colab": {
          "base_uri": "https://localhost:8080/"
        },
        "id": "RkZxjfZ6IIY8",
        "outputId": "a2e7a80e-52f6-4e69-caaa-d36bb1487e9c"
      },
      "execution_count": null,
      "outputs": [
        {
          "output_type": "stream",
          "name": "stdout",
          "text": [
            "tensor([0.0900, 0.2447, 0.6652])\n"
          ]
        }
      ]
    },
    {
      "cell_type": "code",
      "source": [
        "vocab_size=1000\n",
        "embedding_dim=100\n",
        "embedding=nn.Embedding(vocab_size,embedding_dim)\n",
        "input=torch.LongTensor([1,2,3])\n",
        "out=embedding(input)\n",
        "print(out.shape)\n",
        "out"
      ],
      "metadata": {
        "colab": {
          "base_uri": "https://localhost:8080/"
        },
        "id": "iEzRnOV0LHOR",
        "outputId": "c31b75f2-34de-4a2b-888b-1b4299b32328"
      },
      "execution_count": null,
      "outputs": [
        {
          "output_type": "stream",
          "name": "stdout",
          "text": [
            "torch.Size([3, 100])\n"
          ]
        },
        {
          "output_type": "execute_result",
          "data": {
            "text/plain": [
              "tensor([[-0.3188,  0.2724,  0.2022,  0.3504, -0.5345,  1.2827,  0.0559, -0.4049,\n",
              "          0.1924, -0.4955,  0.7555, -2.2290, -0.6144, -1.6914,  1.8126,  1.5992,\n",
              "          1.5238,  0.3924,  0.1800, -1.3820, -2.2451,  0.6981, -0.9595,  0.2140,\n",
              "         -0.6636,  0.0958,  0.1431, -0.5004,  1.8070, -0.5613, -1.7240,  0.4668,\n",
              "          0.0822, -1.6110, -1.1304,  1.4920,  0.4709, -2.1562, -0.7147, -0.6285,\n",
              "          0.0193,  1.2388, -0.7636, -0.7189,  0.0762,  0.4268, -0.2488, -2.0682,\n",
              "          1.2732,  0.4685,  0.9396,  1.1498,  0.4666,  1.8424,  0.5319,  0.9796,\n",
              "         -0.2448,  0.6371, -0.6433,  1.4445,  0.5137,  0.4625, -0.0411, -1.4152,\n",
              "         -2.8529,  1.0772, -0.8817,  0.6905,  0.0153, -1.4749,  0.2928, -0.3639,\n",
              "         -0.2473,  1.1078,  1.5041,  1.4531, -1.0697, -1.6445, -1.3428,  0.5093,\n",
              "          0.4405,  1.0221, -0.3241, -0.5742, -1.1769,  0.4053, -2.6436, -0.6164,\n",
              "         -2.4581,  1.6645,  0.8850, -0.9874,  0.4368, -1.2257,  1.3980,  0.8337,\n",
              "          0.7476, -0.6371,  0.3344,  0.0987],\n",
              "        [ 0.8887,  0.6018, -1.7146,  0.6750, -1.2673,  0.0728,  1.4112, -1.6221,\n",
              "          0.2375,  0.6544, -1.1753, -1.0804,  1.3385, -0.2614,  0.5661, -0.1858,\n",
              "          0.4319,  0.0404,  0.4768, -2.4341, -0.1682,  0.1107, -0.6369, -0.5121,\n",
              "         -0.3495,  0.9984, -0.4327, -0.9928,  0.4002, -0.2972,  0.1985, -1.2967,\n",
              "         -0.4865, -0.4783, -0.7411, -0.7546,  0.4263, -0.6922, -1.1103,  0.4035,\n",
              "         -1.0699,  0.0585,  0.3418,  0.1825,  1.7443,  0.1098,  0.5893, -0.0482,\n",
              "         -0.0118, -0.6469,  1.5857,  0.1499, -0.7532, -0.1613, -1.1791,  0.4068,\n",
              "         -0.1627,  1.5367, -0.7147,  0.1540, -0.2261,  0.6087,  0.5388, -0.4945,\n",
              "         -0.6413,  0.7137,  0.7172, -0.6251,  1.1924,  0.9533,  0.3235,  0.7878,\n",
              "         -0.2168, -0.9921, -0.0964, -0.4984, -0.1417, -0.1241,  0.1991,  0.2607,\n",
              "          0.9551, -0.8101,  0.3214, -0.4707, -1.9914,  0.4788, -1.3910,  0.6171,\n",
              "         -0.0100,  0.2203, -0.9416, -0.1246, -0.5600,  1.6705,  0.6647, -0.5811,\n",
              "         -0.4314, -1.8697,  1.3276,  0.8405],\n",
              "        [-1.8867, -0.8836, -0.1468,  1.4472, -1.0467, -1.0812,  1.7724,  2.0726,\n",
              "         -2.0135, -2.1766, -0.6306, -0.3529, -1.5805,  0.4539,  1.4857,  0.7300,\n",
              "         -0.4168,  0.7390,  0.8125,  0.1059, -0.0238, -1.0582, -0.9443, -0.0688,\n",
              "          0.3251, -0.6767, -0.0910, -0.7474,  1.3831,  0.2088,  0.0901,  0.8417,\n",
              "         -2.0256, -1.6218, -2.1640, -0.8959,  1.5049, -1.0079,  0.9968, -0.8886,\n",
              "         -1.0347, -1.7826, -0.8456, -0.3075, -1.2283, -0.5348, -0.7090,  0.3618,\n",
              "         -1.3650,  1.9898,  0.1863, -0.9740, -1.2337,  0.4862,  0.0681,  1.5022,\n",
              "         -1.2789, -1.0701, -0.6013, -1.0791,  1.4743, -1.1854,  1.1880, -0.9972,\n",
              "          1.8409,  0.2090, -1.1536,  0.7035, -0.7397,  0.9268, -0.6078, -1.6862,\n",
              "         -1.9649,  0.7510,  0.1331,  1.2768,  0.6567, -0.8436, -0.1980,  0.7918,\n",
              "         -0.7959,  1.4125, -1.0190,  0.5059,  0.9743,  1.0896,  1.0535,  1.1245,\n",
              "          1.7143, -1.2867, -0.3244, -0.4830, -1.2773,  1.9618, -0.3449,  0.0780,\n",
              "          0.9171,  0.7489, -0.5377, -0.4234]], grad_fn=<EmbeddingBackward0>)"
            ]
          },
          "metadata": {},
          "execution_count": 40
        }
      ]
    },
    {
      "cell_type": "code",
      "source": [
        "mat1=([1,2,3],[4,5,6])\n",
        "mat2=([7,8,9],[10,11,12],[1,2,3])\n",
        "mat1=torch.tensor(mat1)\n",
        "mat2=torch.tensor(mat2)\n",
        "out=torch.matmul(mat1,mat2)\n",
        "\n",
        "print(mat1 @ mat2)"
      ],
      "metadata": {
        "id": "6lyDDxVwLX_4",
        "colab": {
          "base_uri": "https://localhost:8080/"
        },
        "outputId": "aab1b01b-c193-4851-db78-14510dda8741"
      },
      "execution_count": 6,
      "outputs": [
        {
          "output_type": "stream",
          "name": "stdout",
          "text": [
            "tensor([[ 30,  36,  42],\n",
            "        [ 84,  99, 114]])\n"
          ]
        }
      ]
    },
    {
      "cell_type": "code",
      "source": [
        "int_64=torch.randint(10,(3,2))\n",
        "float_32=torch.rand(2,3)\n",
        "print(int_64)\n",
        "print(float_32)\n",
        "#print(int_64 @ float_32) cannot be multiplied"
      ],
      "metadata": {
        "colab": {
          "base_uri": "https://localhost:8080/"
        },
        "id": "JiObQC6EOL14",
        "outputId": "1875f209-c18a-456d-ec0c-d0652acc6995"
      },
      "execution_count": 11,
      "outputs": [
        {
          "output_type": "stream",
          "name": "stdout",
          "text": [
            "tensor([[8, 0],\n",
            "        [0, 8],\n",
            "        [5, 4]])\n",
            "tensor([[0.3451, 0.0663, 0.5760],\n",
            "        [0.9089, 0.7416, 0.3288]])\n"
          ]
        }
      ]
    }
  ]
}