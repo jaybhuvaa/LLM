{
  "nbformat": 4,
  "nbformat_minor": 0,
  "metadata": {
    "colab": {
      "provenance": [],
      "authorship_tag": "ABX9TyPM9F+t2hfPXE/why7q912M",
      "include_colab_link": true
    },
    "kernelspec": {
      "name": "python3",
      "display_name": "Python 3"
    },
    "language_info": {
      "name": "python"
    }
  },
  "cells": [
    {
      "cell_type": "markdown",
      "metadata": {
        "id": "view-in-github",
        "colab_type": "text"
      },
      "source": [
        "<a href=\"https://colab.research.google.com/github/jaybhuvaa/LLM/blob/main/PyTorchOV.ipynb\" target=\"_parent\"><img src=\"https://colab.research.google.com/assets/colab-badge.svg\" alt=\"Open In Colab\"/></a>"
      ]
    },
    {
      "cell_type": "code",
      "execution_count": null,
      "metadata": {
        "colab": {
          "base_uri": "https://localhost:8080/"
        },
        "id": "cY4oPwU01WzD",
        "outputId": "be7a4b80-9153-4e3c-a0c7-320cfaed8a6d"
      },
      "outputs": [
        {
          "output_type": "execute_result",
          "data": {
            "text/plain": [
              "tensor([[-697,  789,  770,  786,   11],\n",
              "        [ 249, -183, -263,    4,  721],\n",
              "        [-423, -579,   37,  873, -681],\n",
              "        [ 557,  331,  593, -951,  823],\n",
              "        [ 907,  758,  876, -208,  751]])"
            ]
          },
          "metadata": {},
          "execution_count": 3
        }
      ],
      "source": [
        "import torch\n",
        "\n",
        "randint=torch.randint(-1000,1000,(5,5))\n",
        "randint"
      ]
    },
    {
      "cell_type": "code",
      "source": [
        "tensor=torch.tensor([[1.2,2.3],[3.5,8.3],[9.3,5.6]])\n",
        "tensor"
      ],
      "metadata": {
        "colab": {
          "base_uri": "https://localhost:8080/"
        },
        "id": "TLmaGTio24mi",
        "outputId": "63014a66-84ce-4ba1-d5be-b041ce0a4133"
      },
      "execution_count": null,
      "outputs": [
        {
          "output_type": "execute_result",
          "data": {
            "text/plain": [
              "tensor([[1.2000, 2.3000],\n",
              "        [3.5000, 8.3000],\n",
              "        [9.3000, 5.6000]])"
            ]
          },
          "metadata": {},
          "execution_count": 4
        }
      ]
    },
    {
      "cell_type": "code",
      "source": [
        "zeros=torch.zeros((3,3))\n",
        "zeros"
      ],
      "metadata": {
        "colab": {
          "base_uri": "https://localhost:8080/"
        },
        "id": "55_0QYwq3ZE7",
        "outputId": "9a6411ff-6a9c-40a6-961d-2ec4fb30b993"
      },
      "execution_count": null,
      "outputs": [
        {
          "output_type": "execute_result",
          "data": {
            "text/plain": [
              "tensor([[0., 0., 0.],\n",
              "        [0., 0., 0.],\n",
              "        [0., 0., 0.]])"
            ]
          },
          "metadata": {},
          "execution_count": 5
        }
      ]
    },
    {
      "cell_type": "code",
      "source": [
        "ones=torch.ones((3,3))\n",
        "ones"
      ],
      "metadata": {
        "colab": {
          "base_uri": "https://localhost:8080/"
        },
        "id": "UoujUGM03mjY",
        "outputId": "73c998c0-3e82-4a81-dc9e-ab6c44031c4b"
      },
      "execution_count": null,
      "outputs": [
        {
          "output_type": "execute_result",
          "data": {
            "text/plain": [
              "tensor([[1., 1., 1.],\n",
              "        [1., 1., 1.],\n",
              "        [1., 1., 1.]])"
            ]
          },
          "metadata": {},
          "execution_count": 6
        }
      ]
    },
    {
      "cell_type": "code",
      "source": [
        "inp=torch.empty(5,3)\n",
        "inp"
      ],
      "metadata": {
        "colab": {
          "base_uri": "https://localhost:8080/"
        },
        "id": "dTtKeE_Y3r8M",
        "outputId": "0fb07823-364c-461c-8286-48d5ff640948"
      },
      "execution_count": null,
      "outputs": [
        {
          "output_type": "execute_result",
          "data": {
            "text/plain": [
              "tensor([[-1.7048e-21,  3.3013e-41, -1.6998e-21],\n",
              "        [ 3.3013e-41,  0.0000e+00,  0.0000e+00],\n",
              "        [ 0.0000e+00,  0.0000e+00,  0.0000e+00],\n",
              "        [ 0.0000e+00,  1.4013e-45,  0.0000e+00],\n",
              "        [ 0.0000e+00,  0.0000e+00,  9.1084e-44]])"
            ]
          },
          "metadata": {},
          "execution_count": 7
        }
      ]
    },
    {
      "cell_type": "code",
      "source": [
        "arange=torch.arange(0,10)\n",
        "arange"
      ],
      "metadata": {
        "colab": {
          "base_uri": "https://localhost:8080/"
        },
        "id": "_rgpOgAG3_Wo",
        "outputId": "78c7f558-c00d-4762-90f9-29ae99840962"
      },
      "execution_count": null,
      "outputs": [
        {
          "output_type": "execute_result",
          "data": {
            "text/plain": [
              "tensor([0, 1, 2, 3, 4, 5, 6, 7, 8, 9])"
            ]
          },
          "metadata": {},
          "execution_count": 8
        }
      ]
    },
    {
      "cell_type": "code",
      "source": [
        "#start,end,step\n",
        "linespace=torch.linspace(3,10,10)\n",
        "linespace"
      ],
      "metadata": {
        "colab": {
          "base_uri": "https://localhost:8080/"
        },
        "id": "9rLXL7iA4MWj",
        "outputId": "a0e5ce7e-e117-4bb2-a931-12b391489b9a"
      },
      "execution_count": null,
      "outputs": [
        {
          "output_type": "execute_result",
          "data": {
            "text/plain": [
              "tensor([ 3.0000,  3.7778,  4.5556,  5.3333,  6.1111,  6.8889,  7.6667,  8.4444,\n",
              "         9.2222, 10.0000])"
            ]
          },
          "metadata": {},
          "execution_count": 9
        }
      ]
    },
    {
      "cell_type": "code",
      "source": [
        "logsapce=torch.logspace(5,10,10)\n",
        "logsapce"
      ],
      "metadata": {
        "colab": {
          "base_uri": "https://localhost:8080/"
        },
        "id": "YLhNBfNB4RRG",
        "outputId": "8ecc6af1-80f9-4f72-e346-67509fff718e"
      },
      "execution_count": null,
      "outputs": [
        {
          "output_type": "execute_result",
          "data": {
            "text/plain": [
              "tensor([1.0000e+05, 3.5938e+05, 1.2915e+06, 4.6416e+06, 1.6681e+07, 5.9948e+07,\n",
              "        2.1544e+08, 7.7426e+08, 2.7826e+09, 1.0000e+10])"
            ]
          },
          "metadata": {},
          "execution_count": 10
        }
      ]
    },
    {
      "cell_type": "code",
      "source": [
        "eye=torch.eye(5)\n",
        "eye"
      ],
      "metadata": {
        "colab": {
          "base_uri": "https://localhost:8080/"
        },
        "id": "OClionP--BLq",
        "outputId": "203e9b52-0cb6-4cbb-cf52-c7bd8c635884"
      },
      "execution_count": null,
      "outputs": [
        {
          "output_type": "execute_result",
          "data": {
            "text/plain": [
              "tensor([[1., 0., 0., 0., 0.],\n",
              "        [0., 1., 0., 0., 0.],\n",
              "        [0., 0., 1., 0., 0.],\n",
              "        [0., 0., 0., 1., 0.],\n",
              "        [0., 0., 0., 0., 1.]])"
            ]
          },
          "metadata": {},
          "execution_count": 11
        }
      ]
    },
    {
      "cell_type": "code",
      "source": [
        "a=torch.empty((5,3),dtype=torch.int64)\n",
        "a\n",
        "empty_like=torch.empty_like(a)\n",
        "empty_like"
      ],
      "metadata": {
        "colab": {
          "base_uri": "https://localhost:8080/"
        },
        "id": "g6Do972y-DXI",
        "outputId": "e08491f9-e3cd-4a78-97eb-110ba87aca13"
      },
      "execution_count": null,
      "outputs": [
        {
          "output_type": "execute_result",
          "data": {
            "text/plain": [
              "tensor([[    133197872614864,     133197872614864,                   0],\n",
              "        [                  0,                   0, 7310593858020254331],\n",
              "        [3616445622929465956, 6068653468605754676, 4122265038339323696],\n",
              "        [6500156832662696238, 7309453675965983778, 8315168162784306286],\n",
              "        [8367752027310484831, 7954801838398993778, 2459029315949324647]])"
            ]
          },
          "metadata": {},
          "execution_count": 12
        }
      ]
    },
    {
      "cell_type": "code",
      "source": [
        "device=\"cuda\" if torch.cuda.is_available() else \"cpu\"\n",
        "device"
      ],
      "metadata": {
        "colab": {
          "base_uri": "https://localhost:8080/",
          "height": 36
        },
        "id": "C2y9VHRm-2A2",
        "outputId": "90985d0c-9aee-4563-a080-59bf557203ab"
      },
      "execution_count": null,
      "outputs": [
        {
          "output_type": "execute_result",
          "data": {
            "text/plain": [
              "'cpu'"
            ],
            "application/vnd.google.colaboratory.intrinsic+json": {
              "type": "string"
            }
          },
          "metadata": {},
          "execution_count": 13
        }
      ]
    },
    {
      "cell_type": "code",
      "source": [
        "import time\n",
        "import numpy as np\n",
        "\n",
        "start_time=time.time()\n",
        "zeros=torch.zeros(1000,1000)\n",
        "end_time=time.time()\n",
        "print(end_time-start_time)\n"
      ],
      "metadata": {
        "colab": {
          "base_uri": "https://localhost:8080/"
        },
        "id": "9lTwU0CN_Pxp",
        "outputId": "aeccb37f-1f4d-44b7-fa93-9efb94812999"
      },
      "execution_count": null,
      "outputs": [
        {
          "output_type": "stream",
          "name": "stdout",
          "text": [
            "0.003531217575073242\n"
          ]
        }
      ]
    },
    {
      "cell_type": "code",
      "source": [
        "torch_rand1=torch.rand(1000,1000).to(device)\n",
        "torch_rand2=torch.rand(1000,1000).to(device)\n",
        "np_rand1=np.random.rand(1000,1000)\n",
        "np_rand2=np.random.rand(1000,1000)\n",
        "\n",
        "start_time=time.time()\n",
        "rand=(torch_rand1 @ torch_rand2)\n",
        "end_time=time.time()\n",
        "print(end_time-start_time)\n",
        "\n",
        "start_time=time.time()\n",
        "rnd=np.multiply(np_rand1,np_rand2)\n",
        "end_time=time.time()\n",
        "print(end_time-start_time)"
      ],
      "metadata": {
        "colab": {
          "base_uri": "https://localhost:8080/"
        },
        "id": "pJoaZB63AGF5",
        "outputId": "4bce7fa9-dcdc-41c7-b9ac-76cad92f2bf5"
      },
      "execution_count": null,
      "outputs": [
        {
          "output_type": "stream",
          "name": "stdout",
          "text": [
            "0.040517330169677734\n",
            "0.004258394241333008\n"
          ]
        }
      ]
    },
    {
      "cell_type": "code",
      "source": [
        "torch_rand1=torch.rand(100,100,100,100).to(device)\n",
        "torch_rand2=torch.rand(100,100,100,100).to(device)\n",
        "np_rand1=np.random.rand(100,100,100,100)\n",
        "np_rand2=np.random.rand(100,100,100,100)\n",
        "\n",
        "start_time=time.time()\n",
        "rand=(torch_rand1 @ torch_rand2)\n",
        "end_time=time.time()\n",
        "print(end_time-start_time)\n",
        "\n",
        "start_time=time.time()\n",
        "rnd=np.multiply(np_rand1,np_rand2)\n",
        "end_time=time.time()\n",
        "print(end_time-start_time)"
      ],
      "metadata": {
        "colab": {
          "base_uri": "https://localhost:8080/"
        },
        "id": "pVpOrgfYA7Xu",
        "outputId": "fbcbd6e0-f3c3-422b-e8ff-356c594e7a90"
      },
      "execution_count": null,
      "outputs": [
        {
          "output_type": "stream",
          "name": "stdout",
          "text": [
            "0.7430455684661865\n",
            "0.3199739456176758\n"
          ]
        }
      ]
    }
  ]
}